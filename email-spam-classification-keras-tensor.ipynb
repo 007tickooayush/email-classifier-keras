{
 "cells": [
  {
   "cell_type": "code",
   "execution_count": 1,
   "id": "fd1ed44c",
   "metadata": {
    "_cell_guid": "b1076dfc-b9ad-4769-8c92-a6c4dae69d19",
    "_uuid": "8f2839f25d086af736a60e9eeb907d3b93b6e0e5",
    "execution": {
     "iopub.execute_input": "2023-09-03T03:31:26.493770Z",
     "iopub.status.busy": "2023-09-03T03:31:26.493210Z",
     "iopub.status.idle": "2023-09-03T03:31:26.514786Z",
     "shell.execute_reply": "2023-09-03T03:31:26.513215Z"
    },
    "papermill": {
     "duration": 0.035755,
     "end_time": "2023-09-03T03:31:26.517016",
     "exception": false,
     "start_time": "2023-09-03T03:31:26.481261",
     "status": "completed"
    },
    "tags": []
   },
   "outputs": [
    {
     "name": "stdout",
     "output_type": "stream",
     "text": [
      "/kaggle/input/email-spam-classification-dataset-csv/emails.csv\n"
     ]
    }
   ],
   "source": [
    "# This Python 3 environment comes with many helpful analytics libraries installed\n",
    "# It is defined by the kaggle/python Docker image: https://github.com/kaggle/docker-python\n",
    "# For example, here's several helpful packages to load\n",
    "\n",
    "import numpy as np # linear algebra\n",
    "import pandas as pd # data processing, CSV file I/O (e.g. pd.read_csv)\n",
    "\n",
    "# Input data files are available in the read-only \"../input/\" directory\n",
    "# For example, running this (by clicking run or pressing Shift+Enter) will list all files under the input directory\n",
    "\n",
    "import os\n",
    "for dirname, _, filenames in os.walk('/kaggle/input'):\n",
    "    for filename in filenames:\n",
    "        print(os.path.join(dirname, filename))\n",
    "\n",
    "# You can write up to 20GB to the current directory (/kaggle/working/) that gets preserved as output when you create a version using \"Save & Run All\" \n",
    "# You can also write temporary files to /kaggle/temp/, but they won't be saved outside of the current session"
   ]
  },
  {
   "cell_type": "code",
   "execution_count": 2,
   "id": "8bfc3a53",
   "metadata": {
    "execution": {
     "iopub.execute_input": "2023-09-03T03:31:26.539783Z",
     "iopub.status.busy": "2023-09-03T03:31:26.538810Z",
     "iopub.status.idle": "2023-09-03T03:31:36.567267Z",
     "shell.execute_reply": "2023-09-03T03:31:36.566320Z"
    },
    "papermill": {
     "duration": 10.042122,
     "end_time": "2023-09-03T03:31:36.570023",
     "exception": false,
     "start_time": "2023-09-03T03:31:26.527901",
     "status": "completed"
    },
    "tags": []
   },
   "outputs": [
    {
     "name": "stderr",
     "output_type": "stream",
     "text": [
      "/opt/conda/lib/python3.10/site-packages/scipy/__init__.py:146: UserWarning: A NumPy version >=1.16.5 and <1.23.0 is required for this version of SciPy (detected version 1.23.5\n",
      "  warnings.warn(f\"A NumPy version >={np_minversion} and <{np_maxversion}\"\n",
      "/opt/conda/lib/python3.10/site-packages/tensorflow_io/python/ops/__init__.py:98: UserWarning: unable to load libtensorflow_io_plugins.so: unable to open file: libtensorflow_io_plugins.so, from paths: ['/opt/conda/lib/python3.10/site-packages/tensorflow_io/python/ops/libtensorflow_io_plugins.so']\n",
      "caused by: ['/opt/conda/lib/python3.10/site-packages/tensorflow_io/python/ops/libtensorflow_io_plugins.so: undefined symbol: _ZN3tsl6StatusC1EN10tensorflow5error4CodeESt17basic_string_viewIcSt11char_traitsIcEENS_14SourceLocationE']\n",
      "  warnings.warn(f\"unable to load libtensorflow_io_plugins.so: {e}\")\n",
      "/opt/conda/lib/python3.10/site-packages/tensorflow_io/python/ops/__init__.py:104: UserWarning: file system plugins are not loaded: unable to open file: libtensorflow_io.so, from paths: ['/opt/conda/lib/python3.10/site-packages/tensorflow_io/python/ops/libtensorflow_io.so']\n",
      "caused by: ['/opt/conda/lib/python3.10/site-packages/tensorflow_io/python/ops/libtensorflow_io.so: undefined symbol: _ZTVN10tensorflow13GcsFileSystemE']\n",
      "  warnings.warn(f\"file system plugins are not loaded: {e}\")\n"
     ]
    }
   ],
   "source": [
    "# import libraries\n",
    "import pandas as pd\n",
    "import numpy as np\n",
    "import tensorflow as tf\n",
    "from sklearn.model_selection import train_test_split\n",
    "from tensorflow.keras import layers\n",
    "import matplotlib.pyplot as plt"
   ]
  },
  {
   "cell_type": "code",
   "execution_count": 3,
   "id": "cf2fc11e",
   "metadata": {
    "execution": {
     "iopub.execute_input": "2023-09-03T03:31:36.593461Z",
     "iopub.status.busy": "2023-09-03T03:31:36.592058Z",
     "iopub.status.idle": "2023-09-03T03:31:39.095110Z",
     "shell.execute_reply": "2023-09-03T03:31:39.093948Z"
    },
    "papermill": {
     "duration": 2.516865,
     "end_time": "2023-09-03T03:31:39.097783",
     "exception": false,
     "start_time": "2023-09-03T03:31:36.580918",
     "status": "completed"
    },
    "tags": []
   },
   "outputs": [
    {
     "data": {
      "text/html": [
       "<div>\n",
       "<style scoped>\n",
       "    .dataframe tbody tr th:only-of-type {\n",
       "        vertical-align: middle;\n",
       "    }\n",
       "\n",
       "    .dataframe tbody tr th {\n",
       "        vertical-align: top;\n",
       "    }\n",
       "\n",
       "    .dataframe thead th {\n",
       "        text-align: right;\n",
       "    }\n",
       "</style>\n",
       "<table border=\"1\" class=\"dataframe\">\n",
       "  <thead>\n",
       "    <tr style=\"text-align: right;\">\n",
       "      <th></th>\n",
       "      <th>Email No.</th>\n",
       "      <th>the</th>\n",
       "      <th>to</th>\n",
       "      <th>ect</th>\n",
       "      <th>and</th>\n",
       "      <th>for</th>\n",
       "      <th>of</th>\n",
       "      <th>a</th>\n",
       "      <th>you</th>\n",
       "      <th>hou</th>\n",
       "      <th>...</th>\n",
       "      <th>connevey</th>\n",
       "      <th>jay</th>\n",
       "      <th>valued</th>\n",
       "      <th>lay</th>\n",
       "      <th>infrastructure</th>\n",
       "      <th>military</th>\n",
       "      <th>allowing</th>\n",
       "      <th>ff</th>\n",
       "      <th>dry</th>\n",
       "      <th>Prediction</th>\n",
       "    </tr>\n",
       "  </thead>\n",
       "  <tbody>\n",
       "    <tr>\n",
       "      <th>0</th>\n",
       "      <td>Email 1</td>\n",
       "      <td>0</td>\n",
       "      <td>0</td>\n",
       "      <td>1</td>\n",
       "      <td>0</td>\n",
       "      <td>0</td>\n",
       "      <td>0</td>\n",
       "      <td>2</td>\n",
       "      <td>0</td>\n",
       "      <td>0</td>\n",
       "      <td>...</td>\n",
       "      <td>0</td>\n",
       "      <td>0</td>\n",
       "      <td>0</td>\n",
       "      <td>0</td>\n",
       "      <td>0</td>\n",
       "      <td>0</td>\n",
       "      <td>0</td>\n",
       "      <td>0</td>\n",
       "      <td>0</td>\n",
       "      <td>0</td>\n",
       "    </tr>\n",
       "    <tr>\n",
       "      <th>1</th>\n",
       "      <td>Email 2</td>\n",
       "      <td>8</td>\n",
       "      <td>13</td>\n",
       "      <td>24</td>\n",
       "      <td>6</td>\n",
       "      <td>6</td>\n",
       "      <td>2</td>\n",
       "      <td>102</td>\n",
       "      <td>1</td>\n",
       "      <td>27</td>\n",
       "      <td>...</td>\n",
       "      <td>0</td>\n",
       "      <td>0</td>\n",
       "      <td>0</td>\n",
       "      <td>0</td>\n",
       "      <td>0</td>\n",
       "      <td>0</td>\n",
       "      <td>0</td>\n",
       "      <td>1</td>\n",
       "      <td>0</td>\n",
       "      <td>0</td>\n",
       "    </tr>\n",
       "    <tr>\n",
       "      <th>2</th>\n",
       "      <td>Email 3</td>\n",
       "      <td>0</td>\n",
       "      <td>0</td>\n",
       "      <td>1</td>\n",
       "      <td>0</td>\n",
       "      <td>0</td>\n",
       "      <td>0</td>\n",
       "      <td>8</td>\n",
       "      <td>0</td>\n",
       "      <td>0</td>\n",
       "      <td>...</td>\n",
       "      <td>0</td>\n",
       "      <td>0</td>\n",
       "      <td>0</td>\n",
       "      <td>0</td>\n",
       "      <td>0</td>\n",
       "      <td>0</td>\n",
       "      <td>0</td>\n",
       "      <td>0</td>\n",
       "      <td>0</td>\n",
       "      <td>0</td>\n",
       "    </tr>\n",
       "    <tr>\n",
       "      <th>3</th>\n",
       "      <td>Email 4</td>\n",
       "      <td>0</td>\n",
       "      <td>5</td>\n",
       "      <td>22</td>\n",
       "      <td>0</td>\n",
       "      <td>5</td>\n",
       "      <td>1</td>\n",
       "      <td>51</td>\n",
       "      <td>2</td>\n",
       "      <td>10</td>\n",
       "      <td>...</td>\n",
       "      <td>0</td>\n",
       "      <td>0</td>\n",
       "      <td>0</td>\n",
       "      <td>0</td>\n",
       "      <td>0</td>\n",
       "      <td>0</td>\n",
       "      <td>0</td>\n",
       "      <td>0</td>\n",
       "      <td>0</td>\n",
       "      <td>0</td>\n",
       "    </tr>\n",
       "    <tr>\n",
       "      <th>4</th>\n",
       "      <td>Email 5</td>\n",
       "      <td>7</td>\n",
       "      <td>6</td>\n",
       "      <td>17</td>\n",
       "      <td>1</td>\n",
       "      <td>5</td>\n",
       "      <td>2</td>\n",
       "      <td>57</td>\n",
       "      <td>0</td>\n",
       "      <td>9</td>\n",
       "      <td>...</td>\n",
       "      <td>0</td>\n",
       "      <td>0</td>\n",
       "      <td>0</td>\n",
       "      <td>0</td>\n",
       "      <td>0</td>\n",
       "      <td>0</td>\n",
       "      <td>0</td>\n",
       "      <td>1</td>\n",
       "      <td>0</td>\n",
       "      <td>0</td>\n",
       "    </tr>\n",
       "  </tbody>\n",
       "</table>\n",
       "<p>5 rows × 3002 columns</p>\n",
       "</div>"
      ],
      "text/plain": [
       "  Email No.  the  to  ect  and  for  of    a  you  hou  ...  connevey  jay  \\\n",
       "0   Email 1    0   0    1    0    0   0    2    0    0  ...         0    0   \n",
       "1   Email 2    8  13   24    6    6   2  102    1   27  ...         0    0   \n",
       "2   Email 3    0   0    1    0    0   0    8    0    0  ...         0    0   \n",
       "3   Email 4    0   5   22    0    5   1   51    2   10  ...         0    0   \n",
       "4   Email 5    7   6   17    1    5   2   57    0    9  ...         0    0   \n",
       "\n",
       "   valued  lay  infrastructure  military  allowing  ff  dry  Prediction  \n",
       "0       0    0               0         0         0   0    0           0  \n",
       "1       0    0               0         0         0   1    0           0  \n",
       "2       0    0               0         0         0   0    0           0  \n",
       "3       0    0               0         0         0   0    0           0  \n",
       "4       0    0               0         0         0   1    0           0  \n",
       "\n",
       "[5 rows x 3002 columns]"
      ]
     },
     "execution_count": 3,
     "metadata": {},
     "output_type": "execute_result"
    }
   ],
   "source": [
    "df = pd.read_csv('/kaggle/input/email-spam-classification-dataset-csv/emails.csv')\n",
    "df.head()"
   ]
  },
  {
   "cell_type": "code",
   "execution_count": 4,
   "id": "2e44b413",
   "metadata": {
    "execution": {
     "iopub.execute_input": "2023-09-03T03:31:39.119731Z",
     "iopub.status.busy": "2023-09-03T03:31:39.119263Z",
     "iopub.status.idle": "2023-09-03T03:31:39.127260Z",
     "shell.execute_reply": "2023-09-03T03:31:39.126068Z"
    },
    "papermill": {
     "duration": 0.021608,
     "end_time": "2023-09-03T03:31:39.129519",
     "exception": false,
     "start_time": "2023-09-03T03:31:39.107911",
     "status": "completed"
    },
    "tags": []
   },
   "outputs": [
    {
     "data": {
      "text/plain": [
       "Index(['Email No.', 'the', 'to', 'ect', 'and', 'for', 'of', 'a', 'you', 'hou',\n",
       "       ...\n",
       "       'connevey', 'jay', 'valued', 'lay', 'infrastructure', 'military',\n",
       "       'allowing', 'ff', 'dry', 'Prediction'],\n",
       "      dtype='object', length=3002)"
      ]
     },
     "execution_count": 4,
     "metadata": {},
     "output_type": "execute_result"
    }
   ],
   "source": [
    "df.columns"
   ]
  },
  {
   "cell_type": "code",
   "execution_count": 5,
   "id": "cb495a9c",
   "metadata": {
    "execution": {
     "iopub.execute_input": "2023-09-03T03:31:39.152082Z",
     "iopub.status.busy": "2023-09-03T03:31:39.151625Z",
     "iopub.status.idle": "2023-09-03T03:31:39.164112Z",
     "shell.execute_reply": "2023-09-03T03:31:39.163260Z"
    },
    "papermill": {
     "duration": 0.026217,
     "end_time": "2023-09-03T03:31:39.166208",
     "exception": false,
     "start_time": "2023-09-03T03:31:39.139991",
     "status": "completed"
    },
    "tags": []
   },
   "outputs": [
    {
     "data": {
      "text/plain": [
       "0    3672\n",
       "1    1500\n",
       "Name: Prediction, dtype: int64"
      ]
     },
     "execution_count": 5,
     "metadata": {},
     "output_type": "execute_result"
    }
   ],
   "source": [
    "df['Prediction'].value_counts()"
   ]
  },
  {
   "cell_type": "code",
   "execution_count": 6,
   "id": "c2450760",
   "metadata": {
    "execution": {
     "iopub.execute_input": "2023-09-03T03:31:39.191613Z",
     "iopub.status.busy": "2023-09-03T03:31:39.190810Z",
     "iopub.status.idle": "2023-09-03T03:31:39.205640Z",
     "shell.execute_reply": "2023-09-03T03:31:39.204413Z"
    },
    "papermill": {
     "duration": 0.03108,
     "end_time": "2023-09-03T03:31:39.208105",
     "exception": false,
     "start_time": "2023-09-03T03:31:39.177025",
     "status": "completed"
    },
    "tags": []
   },
   "outputs": [
    {
     "data": {
      "text/html": [
       "<div>\n",
       "<style scoped>\n",
       "    .dataframe tbody tr th:only-of-type {\n",
       "        vertical-align: middle;\n",
       "    }\n",
       "\n",
       "    .dataframe tbody tr th {\n",
       "        vertical-align: top;\n",
       "    }\n",
       "\n",
       "    .dataframe thead th {\n",
       "        text-align: right;\n",
       "    }\n",
       "</style>\n",
       "<table border=\"1\" class=\"dataframe\">\n",
       "  <thead>\n",
       "    <tr style=\"text-align: right;\">\n",
       "      <th></th>\n",
       "      <th>0</th>\n",
       "      <th>1</th>\n",
       "    </tr>\n",
       "  </thead>\n",
       "  <tbody>\n",
       "    <tr>\n",
       "      <th>0</th>\n",
       "      <td>1</td>\n",
       "      <td>0</td>\n",
       "    </tr>\n",
       "    <tr>\n",
       "      <th>1</th>\n",
       "      <td>1</td>\n",
       "      <td>0</td>\n",
       "    </tr>\n",
       "    <tr>\n",
       "      <th>2</th>\n",
       "      <td>1</td>\n",
       "      <td>0</td>\n",
       "    </tr>\n",
       "    <tr>\n",
       "      <th>3</th>\n",
       "      <td>1</td>\n",
       "      <td>0</td>\n",
       "    </tr>\n",
       "    <tr>\n",
       "      <th>4</th>\n",
       "      <td>1</td>\n",
       "      <td>0</td>\n",
       "    </tr>\n",
       "  </tbody>\n",
       "</table>\n",
       "</div>"
      ],
      "text/plain": [
       "   0  1\n",
       "0  1  0\n",
       "1  1  0\n",
       "2  1  0\n",
       "3  1  0\n",
       "4  1  0"
      ]
     },
     "execution_count": 6,
     "metadata": {},
     "output_type": "execute_result"
    }
   ],
   "source": [
    "y = pd.get_dummies(df['Prediction'])\n",
    "y.head()"
   ]
  },
  {
   "cell_type": "code",
   "execution_count": 7,
   "id": "d3d05456",
   "metadata": {
    "execution": {
     "iopub.execute_input": "2023-09-03T03:31:39.231242Z",
     "iopub.status.busy": "2023-09-03T03:31:39.230832Z",
     "iopub.status.idle": "2023-09-03T03:31:39.313148Z",
     "shell.execute_reply": "2023-09-03T03:31:39.311949Z"
    },
    "papermill": {
     "duration": 0.096702,
     "end_time": "2023-09-03T03:31:39.315679",
     "exception": false,
     "start_time": "2023-09-03T03:31:39.218977",
     "status": "completed"
    },
    "tags": []
   },
   "outputs": [
    {
     "data": {
      "text/html": [
       "<div>\n",
       "<style scoped>\n",
       "    .dataframe tbody tr th:only-of-type {\n",
       "        vertical-align: middle;\n",
       "    }\n",
       "\n",
       "    .dataframe tbody tr th {\n",
       "        vertical-align: top;\n",
       "    }\n",
       "\n",
       "    .dataframe thead th {\n",
       "        text-align: right;\n",
       "    }\n",
       "</style>\n",
       "<table border=\"1\" class=\"dataframe\">\n",
       "  <thead>\n",
       "    <tr style=\"text-align: right;\">\n",
       "      <th></th>\n",
       "      <th>the</th>\n",
       "      <th>to</th>\n",
       "      <th>ect</th>\n",
       "      <th>and</th>\n",
       "      <th>for</th>\n",
       "      <th>of</th>\n",
       "      <th>a</th>\n",
       "      <th>you</th>\n",
       "      <th>hou</th>\n",
       "      <th>in</th>\n",
       "      <th>...</th>\n",
       "      <th>enhancements</th>\n",
       "      <th>connevey</th>\n",
       "      <th>jay</th>\n",
       "      <th>valued</th>\n",
       "      <th>lay</th>\n",
       "      <th>infrastructure</th>\n",
       "      <th>military</th>\n",
       "      <th>allowing</th>\n",
       "      <th>ff</th>\n",
       "      <th>dry</th>\n",
       "    </tr>\n",
       "  </thead>\n",
       "  <tbody>\n",
       "    <tr>\n",
       "      <th>0</th>\n",
       "      <td>0</td>\n",
       "      <td>0</td>\n",
       "      <td>1</td>\n",
       "      <td>0</td>\n",
       "      <td>0</td>\n",
       "      <td>0</td>\n",
       "      <td>2</td>\n",
       "      <td>0</td>\n",
       "      <td>0</td>\n",
       "      <td>0</td>\n",
       "      <td>...</td>\n",
       "      <td>0</td>\n",
       "      <td>0</td>\n",
       "      <td>0</td>\n",
       "      <td>0</td>\n",
       "      <td>0</td>\n",
       "      <td>0</td>\n",
       "      <td>0</td>\n",
       "      <td>0</td>\n",
       "      <td>0</td>\n",
       "      <td>0</td>\n",
       "    </tr>\n",
       "    <tr>\n",
       "      <th>1</th>\n",
       "      <td>8</td>\n",
       "      <td>13</td>\n",
       "      <td>24</td>\n",
       "      <td>6</td>\n",
       "      <td>6</td>\n",
       "      <td>2</td>\n",
       "      <td>102</td>\n",
       "      <td>1</td>\n",
       "      <td>27</td>\n",
       "      <td>18</td>\n",
       "      <td>...</td>\n",
       "      <td>0</td>\n",
       "      <td>0</td>\n",
       "      <td>0</td>\n",
       "      <td>0</td>\n",
       "      <td>0</td>\n",
       "      <td>0</td>\n",
       "      <td>0</td>\n",
       "      <td>0</td>\n",
       "      <td>1</td>\n",
       "      <td>0</td>\n",
       "    </tr>\n",
       "    <tr>\n",
       "      <th>2</th>\n",
       "      <td>0</td>\n",
       "      <td>0</td>\n",
       "      <td>1</td>\n",
       "      <td>0</td>\n",
       "      <td>0</td>\n",
       "      <td>0</td>\n",
       "      <td>8</td>\n",
       "      <td>0</td>\n",
       "      <td>0</td>\n",
       "      <td>4</td>\n",
       "      <td>...</td>\n",
       "      <td>0</td>\n",
       "      <td>0</td>\n",
       "      <td>0</td>\n",
       "      <td>0</td>\n",
       "      <td>0</td>\n",
       "      <td>0</td>\n",
       "      <td>0</td>\n",
       "      <td>0</td>\n",
       "      <td>0</td>\n",
       "      <td>0</td>\n",
       "    </tr>\n",
       "    <tr>\n",
       "      <th>3</th>\n",
       "      <td>0</td>\n",
       "      <td>5</td>\n",
       "      <td>22</td>\n",
       "      <td>0</td>\n",
       "      <td>5</td>\n",
       "      <td>1</td>\n",
       "      <td>51</td>\n",
       "      <td>2</td>\n",
       "      <td>10</td>\n",
       "      <td>1</td>\n",
       "      <td>...</td>\n",
       "      <td>0</td>\n",
       "      <td>0</td>\n",
       "      <td>0</td>\n",
       "      <td>0</td>\n",
       "      <td>0</td>\n",
       "      <td>0</td>\n",
       "      <td>0</td>\n",
       "      <td>0</td>\n",
       "      <td>0</td>\n",
       "      <td>0</td>\n",
       "    </tr>\n",
       "    <tr>\n",
       "      <th>4</th>\n",
       "      <td>7</td>\n",
       "      <td>6</td>\n",
       "      <td>17</td>\n",
       "      <td>1</td>\n",
       "      <td>5</td>\n",
       "      <td>2</td>\n",
       "      <td>57</td>\n",
       "      <td>0</td>\n",
       "      <td>9</td>\n",
       "      <td>3</td>\n",
       "      <td>...</td>\n",
       "      <td>0</td>\n",
       "      <td>0</td>\n",
       "      <td>0</td>\n",
       "      <td>0</td>\n",
       "      <td>0</td>\n",
       "      <td>0</td>\n",
       "      <td>0</td>\n",
       "      <td>0</td>\n",
       "      <td>1</td>\n",
       "      <td>0</td>\n",
       "    </tr>\n",
       "  </tbody>\n",
       "</table>\n",
       "<p>5 rows × 3000 columns</p>\n",
       "</div>"
      ],
      "text/plain": [
       "   the  to  ect  and  for  of    a  you  hou  in  ...  enhancements  connevey  \\\n",
       "0    0   0    1    0    0   0    2    0    0   0  ...             0         0   \n",
       "1    8  13   24    6    6   2  102    1   27  18  ...             0         0   \n",
       "2    0   0    1    0    0   0    8    0    0   4  ...             0         0   \n",
       "3    0   5   22    0    5   1   51    2   10   1  ...             0         0   \n",
       "4    7   6   17    1    5   2   57    0    9   3  ...             0         0   \n",
       "\n",
       "   jay  valued  lay  infrastructure  military  allowing  ff  dry  \n",
       "0    0       0    0               0         0         0   0    0  \n",
       "1    0       0    0               0         0         0   1    0  \n",
       "2    0       0    0               0         0         0   0    0  \n",
       "3    0       0    0               0         0         0   0    0  \n",
       "4    0       0    0               0         0         0   1    0  \n",
       "\n",
       "[5 rows x 3000 columns]"
      ]
     },
     "execution_count": 7,
     "metadata": {},
     "output_type": "execute_result"
    }
   ],
   "source": [
    "# provide the columns to avoid\n",
    "ex_col = ['Email No.','Prediction']\n",
    "X = df[[col for col in df.columns.to_list() if col not in ex_col]]\n",
    "X.head()"
   ]
  },
  {
   "cell_type": "code",
   "execution_count": 8,
   "id": "8c005d41",
   "metadata": {
    "execution": {
     "iopub.execute_input": "2023-09-03T03:31:39.339935Z",
     "iopub.status.busy": "2023-09-03T03:31:39.339540Z",
     "iopub.status.idle": "2023-09-03T03:31:39.344426Z",
     "shell.execute_reply": "2023-09-03T03:31:39.343366Z"
    },
    "papermill": {
     "duration": 0.019624,
     "end_time": "2023-09-03T03:31:39.346667",
     "exception": false,
     "start_time": "2023-09-03T03:31:39.327043",
     "status": "completed"
    },
    "tags": []
   },
   "outputs": [],
   "source": [
    "X = np.asarray(X)\n",
    "y = np.asarray(y)"
   ]
  },
  {
   "cell_type": "code",
   "execution_count": 9,
   "id": "82d01e85",
   "metadata": {
    "execution": {
     "iopub.execute_input": "2023-09-03T03:31:39.370815Z",
     "iopub.status.busy": "2023-09-03T03:31:39.370365Z",
     "iopub.status.idle": "2023-09-03T03:31:39.374462Z",
     "shell.execute_reply": "2023-09-03T03:31:39.373672Z"
    },
    "papermill": {
     "duration": 0.018801,
     "end_time": "2023-09-03T03:31:39.376502",
     "exception": false,
     "start_time": "2023-09-03T03:31:39.357701",
     "status": "completed"
    },
    "tags": []
   },
   "outputs": [],
   "source": [
    "del df"
   ]
  },
  {
   "cell_type": "code",
   "execution_count": 10,
   "id": "576e7d4f",
   "metadata": {
    "execution": {
     "iopub.execute_input": "2023-09-03T03:31:39.400871Z",
     "iopub.status.busy": "2023-09-03T03:31:39.400138Z",
     "iopub.status.idle": "2023-09-03T03:31:39.813228Z",
     "shell.execute_reply": "2023-09-03T03:31:39.812183Z"
    },
    "papermill": {
     "duration": 0.427942,
     "end_time": "2023-09-03T03:31:39.815749",
     "exception": false,
     "start_time": "2023-09-03T03:31:39.387807",
     "status": "completed"
    },
    "tags": []
   },
   "outputs": [],
   "source": [
    "X_train, X_test, y_train, y_test = train_test_split(X,y,test_size=0.2,random_state=0)\n",
    "X_train, X_val, y_train,y_val = train_test_split(X,y,test_size=0.05,random_state=0) # split train adn validation"
   ]
  },
  {
   "cell_type": "code",
   "execution_count": 11,
   "id": "a5c14d73",
   "metadata": {
    "execution": {
     "iopub.execute_input": "2023-09-03T03:31:39.840539Z",
     "iopub.status.busy": "2023-09-03T03:31:39.839899Z",
     "iopub.status.idle": "2023-09-03T03:31:40.381254Z",
     "shell.execute_reply": "2023-09-03T03:31:40.380029Z"
    },
    "papermill": {
     "duration": 0.558797,
     "end_time": "2023-09-03T03:31:40.386291",
     "exception": false,
     "start_time": "2023-09-03T03:31:39.827494",
     "status": "completed"
    },
    "tags": []
   },
   "outputs": [
    {
     "name": "stdout",
     "output_type": "stream",
     "text": [
      "Model: \"sequential\"\n",
      "_________________________________________________________________\n",
      " Layer (type)                Output Shape              Param #   \n",
      "=================================================================\n",
      " dense (Dense)               (None, 3000)              9003000   \n",
      "                                                                 \n",
      " dropout (Dropout)           (None, 3000)              0         \n",
      "                                                                 \n",
      " dense_1 (Dense)             (None, 1000)              3001000   \n",
      "                                                                 \n",
      " dropout_1 (Dropout)         (None, 1000)              0         \n",
      "                                                                 \n",
      " dense_2 (Dense)             (None, 2)                 2002      \n",
      "                                                                 \n",
      "=================================================================\n",
      "Total params: 12,006,002\n",
      "Trainable params: 12,006,002\n",
      "Non-trainable params: 0\n",
      "_________________________________________________________________\n"
     ]
    }
   ],
   "source": [
    "model = tf.keras.models.Sequential([\n",
    "    layers.Dense(3000,input_dim=3000,activation='relu'),\n",
    "    layers.Dropout(0.2),\n",
    "    layers.Dense(1000,activation='relu'),\n",
    "    layers.Dropout(0.2),\n",
    "    layers.Dense(2,activation='sigmoid')\n",
    "])\n",
    "\n",
    "model.summary()"
   ]
  },
  {
   "cell_type": "code",
   "execution_count": 12,
   "id": "8642000a",
   "metadata": {
    "execution": {
     "iopub.execute_input": "2023-09-03T03:31:40.414338Z",
     "iopub.status.busy": "2023-09-03T03:31:40.413899Z",
     "iopub.status.idle": "2023-09-03T03:31:40.434049Z",
     "shell.execute_reply": "2023-09-03T03:31:40.432849Z"
    },
    "papermill": {
     "duration": 0.037644,
     "end_time": "2023-09-03T03:31:40.436908",
     "exception": false,
     "start_time": "2023-09-03T03:31:40.399264",
     "status": "completed"
    },
    "tags": []
   },
   "outputs": [],
   "source": [
    "model.compile(optimizer='adam', loss='binary_crossentropy', metrics=['accuracy'])"
   ]
  },
  {
   "cell_type": "code",
   "execution_count": 13,
   "id": "0280eda7",
   "metadata": {
    "execution": {
     "iopub.execute_input": "2023-09-03T03:31:40.464809Z",
     "iopub.status.busy": "2023-09-03T03:31:40.464323Z",
     "iopub.status.idle": "2023-09-03T03:33:05.228555Z",
     "shell.execute_reply": "2023-09-03T03:33:05.227448Z"
    },
    "papermill": {
     "duration": 84.781482,
     "end_time": "2023-09-03T03:33:05.231412",
     "exception": false,
     "start_time": "2023-09-03T03:31:40.449930",
     "status": "completed"
    },
    "tags": []
   },
   "outputs": [
    {
     "name": "stdout",
     "output_type": "stream",
     "text": [
      "Epoch 1/10\n",
      "50/50 [==============================] - 10s 179ms/step - loss: 1.8232 - accuracy: 0.8514 - val_loss: 0.2116 - val_accuracy: 0.9035\n",
      "Epoch 2/10\n",
      "50/50 [==============================] - 8s 167ms/step - loss: 0.1731 - accuracy: 0.9615 - val_loss: 0.0832 - val_accuracy: 0.9768\n",
      "Epoch 3/10\n",
      "50/50 [==============================] - 8s 165ms/step - loss: 0.1202 - accuracy: 0.9731 - val_loss: 0.2100 - val_accuracy: 0.9459\n",
      "Epoch 4/10\n",
      "50/50 [==============================] - 8s 168ms/step - loss: 0.0746 - accuracy: 0.9819 - val_loss: 0.0386 - val_accuracy: 0.9884\n",
      "Epoch 5/10\n",
      "50/50 [==============================] - 8s 165ms/step - loss: 0.0354 - accuracy: 0.9904 - val_loss: 0.0447 - val_accuracy: 0.9884\n",
      "Epoch 6/10\n",
      "50/50 [==============================] - 8s 166ms/step - loss: 0.0934 - accuracy: 0.9835 - val_loss: 0.1456 - val_accuracy: 0.9382\n",
      "Epoch 7/10\n",
      "50/50 [==============================] - 8s 161ms/step - loss: 0.0446 - accuracy: 0.9884 - val_loss: 0.0450 - val_accuracy: 0.9884\n",
      "Epoch 8/10\n",
      "50/50 [==============================] - 8s 168ms/step - loss: 0.0150 - accuracy: 0.9959 - val_loss: 0.0366 - val_accuracy: 0.9884\n",
      "Epoch 9/10\n",
      "50/50 [==============================] - 8s 161ms/step - loss: 0.0202 - accuracy: 0.9957 - val_loss: 0.0889 - val_accuracy: 0.9884\n",
      "Epoch 10/10\n",
      "50/50 [==============================] - 8s 166ms/step - loss: 0.0293 - accuracy: 0.9945 - val_loss: 0.1108 - val_accuracy: 0.9730\n"
     ]
    }
   ],
   "source": [
    "epoch = 10\n",
    "history = model.fit(X_train, y_train, epochs=epoch, batch_size=100, validation_data=(X_val, y_val))"
   ]
  },
  {
   "cell_type": "code",
   "execution_count": 14,
   "id": "69b22b2a",
   "metadata": {
    "execution": {
     "iopub.execute_input": "2023-09-03T03:33:05.352141Z",
     "iopub.status.busy": "2023-09-03T03:33:05.351725Z",
     "iopub.status.idle": "2023-09-03T03:33:05.928501Z",
     "shell.execute_reply": "2023-09-03T03:33:05.927321Z"
    },
    "papermill": {
     "duration": 0.64013,
     "end_time": "2023-09-03T03:33:05.930977",
     "exception": false,
     "start_time": "2023-09-03T03:33:05.290847",
     "status": "completed"
    },
    "tags": []
   },
   "outputs": [
    {
     "name": "stdout",
     "output_type": "stream",
     "text": [
      "33/33 [==============================] - 0s 14ms/step - loss: 0.0427 - accuracy: 0.9865\n"
     ]
    }
   ],
   "source": [
    "evaluation = model.evaluate(X_test, y_test)"
   ]
  },
  {
   "cell_type": "code",
   "execution_count": 15,
   "id": "51c42953",
   "metadata": {
    "execution": {
     "iopub.execute_input": "2023-09-03T03:33:06.055561Z",
     "iopub.status.busy": "2023-09-03T03:33:06.055094Z",
     "iopub.status.idle": "2023-09-03T03:33:06.382616Z",
     "shell.execute_reply": "2023-09-03T03:33:06.381439Z"
    },
    "papermill": {
     "duration": 0.394688,
     "end_time": "2023-09-03T03:33:06.385816",
     "exception": false,
     "start_time": "2023-09-03T03:33:05.991128",
     "status": "completed"
    },
    "tags": []
   },
   "outputs": [
    {
     "data": {
      "image/png": "[encoded data removed]",
      "text/plain": [
       "<Figure size 640x480 with 1 Axes>"
      ]
     },
     "metadata": {},
     "output_type": "display_data"
    }
   ],
   "source": [
    "plt.plot(range(epoch),history.history.get('accuracy'))\n",
    "plt.plot(range(epoch),history.history.get('val_accuracy'))\n",
    "plt.legend(['train accuracy','validation accuracy'])\n",
    "plt.show()"
   ]
  },
  {
   "cell_type": "code",
   "execution_count": 16,
   "id": "6b486bfe",
   "metadata": {
    "execution": {
     "iopub.execute_input": "2023-09-03T03:33:06.509890Z",
     "iopub.status.busy": "2023-09-03T03:33:06.509428Z",
     "iopub.status.idle": "2023-09-03T03:33:06.746569Z",
     "shell.execute_reply": "2023-09-03T03:33:06.745280Z"
    },
    "papermill": {
     "duration": 0.302183,
     "end_time": "2023-09-03T03:33:06.749329",
     "exception": false,
     "start_time": "2023-09-03T03:33:06.447146",
     "status": "completed"
    },
    "tags": []
   },
   "outputs": [
    {
     "name": "stdout",
     "output_type": "stream",
     "text": [
      "1/1 [==============================] - 0s 112ms/step\n",
      "1/1 [==============================] - 0s 26ms/step\n"
     ]
    }
   ],
   "source": [
    "unseen_x = X_test[0].reshape(1,-1)\n",
    "# make predictions\n",
    "predictions = model.predict(unseen_x)\n",
    "predicted_classes = np.argmax(predictions, axis=1)\n",
    "\n",
    "# making predictions on unseen data\n",
    "predictions = model.predict(unseen_x)\n",
    "predicted_classes = np.argmax(predictions, axis=1)"
   ]
  },
  {
   "cell_type": "code",
   "execution_count": 17,
   "id": "269facf2",
   "metadata": {
    "execution": {
     "iopub.execute_input": "2023-09-03T03:33:06.874860Z",
     "iopub.status.busy": "2023-09-03T03:33:06.874355Z",
     "iopub.status.idle": "2023-09-03T03:33:06.882129Z",
     "shell.execute_reply": "2023-09-03T03:33:06.880895Z"
    },
    "papermill": {
     "duration": 0.073368,
     "end_time": "2023-09-03T03:33:06.884488",
     "exception": false,
     "start_time": "2023-09-03T03:33:06.811120",
     "status": "completed"
    },
    "tags": []
   },
   "outputs": [
    {
     "data": {
      "text/plain": [
       "array([0])"
      ]
     },
     "execution_count": 17,
     "metadata": {},
     "output_type": "execute_result"
    }
   ],
   "source": [
    "predicted_classes"
   ]
  },
  {
   "cell_type": "code",
   "execution_count": 18,
   "id": "f9c3ae49",
   "metadata": {
    "execution": {
     "iopub.execute_input": "2023-09-03T03:33:07.010226Z",
     "iopub.status.busy": "2023-09-03T03:33:07.009796Z",
     "iopub.status.idle": "2023-09-03T03:33:07.017863Z",
     "shell.execute_reply": "2023-09-03T03:33:07.016692Z"
    },
    "papermill": {
     "duration": 0.074217,
     "end_time": "2023-09-03T03:33:07.020422",
     "exception": false,
     "start_time": "2023-09-03T03:33:06.946205",
     "status": "completed"
    },
    "tags": []
   },
   "outputs": [
    {
     "data": {
      "text/plain": [
       "array([1, 0], dtype=uint8)"
      ]
     },
     "execution_count": 18,
     "metadata": {},
     "output_type": "execute_result"
    }
   ],
   "source": [
    "y_test[0]"
   ]
  },
  {
   "cell_type": "code",
   "execution_count": 19,
   "id": "37c7ab52",
   "metadata": {
    "execution": {
     "iopub.execute_input": "2023-09-03T03:33:07.150974Z",
     "iopub.status.busy": "2023-09-03T03:33:07.149160Z",
     "iopub.status.idle": "2023-09-03T03:33:07.156794Z",
     "shell.execute_reply": "2023-09-03T03:33:07.155987Z"
    },
    "papermill": {
     "duration": 0.073806,
     "end_time": "2023-09-03T03:33:07.159053",
     "exception": false,
     "start_time": "2023-09-03T03:33:07.085247",
     "status": "completed"
    },
    "tags": []
   },
   "outputs": [
    {
     "data": {
      "text/plain": [
       "array([[1, 0],\n",
       "       [1, 0],\n",
       "       [1, 0],\n",
       "       ...,\n",
       "       [0, 1],\n",
       "       [1, 0],\n",
       "       [1, 0]], dtype=uint8)"
      ]
     },
     "execution_count": 19,
     "metadata": {},
     "output_type": "execute_result"
    }
   ],
   "source": [
    "y_test"
   ]
  },
  {
   "cell_type": "code",
   "execution_count": 20,
   "id": "adac5f1e",
   "metadata": {
    "execution": {
     "iopub.execute_input": "2023-09-03T03:33:07.287321Z",
     "iopub.status.busy": "2023-09-03T03:33:07.286928Z",
     "iopub.status.idle": "2023-09-03T03:33:07.293848Z",
     "shell.execute_reply": "2023-09-03T03:33:07.292550Z"
    },
    "papermill": {
     "duration": 0.0727,
     "end_time": "2023-09-03T03:33:07.296197",
     "exception": false,
     "start_time": "2023-09-03T03:33:07.223497",
     "status": "completed"
    },
    "tags": []
   },
   "outputs": [],
   "source": [
    "# history = model.fit(X_train,y_train,epochs=10,batch_size=100,validation_data=(X_val,y_val))\n",
    "# history = model.fit(X_train, y_train, epochs=10, batch_size=100, validation_data=(X_val, y_val))\n",
    "\n",
    "# csv_file = pd.read_csv('/kaggle/input/email-spam-classification-dataset-csv/emails.csv')\n",
    "\n",
    "# x_train = csv_file[[col for col in csv_file.columns if col not in ex_col]]\n",
    "\n",
    "# y_train = pd.get_dummies(csv_file['Prediction'])\n",
    "# del csv_file['Prediction']\n",
    "\n",
    "# x_train = np.asarray(x_train)\n",
    "# y_train = np.asarray(y_train)\n",
    "\n",
    "# x_train, x_test, y_train, y_test = train_test_split(x_train, y_train, test_size=0.2)  # split train and test\n",
    "# x_train, x_val, y_train, y_val = train_test_split(x_train, y_train, test_size=0.05)  # split train adn validation\n",
    "\n",
    "# # building the model\n",
    "# model = tf.keras.models.Sequential()\n",
    "# model.add(layers.Dense(3000, input_dim=3000, activation='relu'))\n",
    "# model.add(layers.Dropout(0.2))\n",
    "# model.add(layers.Dense(1000, activation='relu'))\n",
    "# model.add(layers.Dropout(0.2))\n",
    "# model.add(layers.Dense(2, activation='sigmoid'))\n",
    "# model.summary()\n",
    "\n",
    "# model.compile(optimizer='adam', loss='binary_crossentropy', metrics=['accuracy'])\n",
    "# history = model.fit(x_train, y_train, epochs=10, batch_size=100, validation_data=(x_val, y_val))\n",
    "# evaluation = model.evaluate(x_test, y_test)\n",
    "\n",
    "\n",
    "\n",
    "\n",
    "#####################################################################################\n",
    "# x_train = np.asarray(X_train)\n",
    "# y_train = np.asarray(y_train)\n",
    "# x_train, x_test, y_train, y_test = train_test_split(x_train, y_train, test_size=0.2)  # split train and test\n",
    "# x_train, x_val, y_train, y_val = train_test_split(x_train, y_train, test_size=0.05)  # split train adn validation\n",
    "\n",
    "# model.compile(optimizer='adam', loss='binary_crossentropy', metrics=['accuracy'])\n",
    "# history = model.fit(X_train, y_train, epochs=10, batch_size=100, validation_data=(X_val, y_val))\n",
    "# evaluation = model.evaluate(x_test, y_test)"
   ]
  },
  {
   "cell_type": "code",
   "execution_count": null,
   "id": "03b87c34",
   "metadata": {
    "papermill": {
     "duration": 0.061975,
     "end_time": "2023-09-03T03:33:07.422078",
     "exception": false,
     "start_time": "2023-09-03T03:33:07.360103",
     "status": "completed"
    },
    "tags": []
   },
   "outputs": [],
   "source": []
  },
  {
   "cell_type": "code",
   "execution_count": null,
   "id": "b0198a92",
   "metadata": {
    "papermill": {
     "duration": 0.061526,
     "end_time": "2023-09-03T03:33:07.545338",
     "exception": false,
     "start_time": "2023-09-03T03:33:07.483812",
     "status": "completed"
    },
    "tags": []
   },
   "outputs": [],
   "source": []
  }
 ],
 "kernelspec": {
  "display_name": "Python 3",
  "language": "python",
  "name": "python3"
 },
 "language_info": {
  "codemirror_mode": {
   "name": "ipython",
   "version": 3
  },
  "file_extension": ".py",
  "mimetype": "text/x-python",
  "name": "python",
  "nbconvert_exporter": "python",
  "pygments_lexer": "ipython3",
  "version": "3.6.4"
 },
 "metadata": {
  "kernelspec": {
   "display_name": "Python 3",
   "language": "python",
   "name": "python3"
  },
  "language_info": {
   "codemirror_mode": {
    "name": "ipython",
    "version": 3
   },
   "file_extension": ".py",
   "mimetype": "text/x-python",
   "name": "python",
   "nbconvert_exporter": "python",
   "pygments_lexer": "ipython3",
   "version": "3.10.12"
  },
  "papermill": {
   "default_parameters": {},
   "duration": 115.818742,
   "end_time": "2023-09-03T03:33:10.585528",
   "environment_variables": {},
   "exception": null,
   "input_path": "__notebook__.ipynb",
   "output_path": "__notebook__.ipynb",
   "parameters": {},
   "start_time": "2023-09-03T03:31:14.766786",
   "version": "2.4.0"
  }
 },
 "nbformat": 4,
 "nbformat_minor": 5
}
